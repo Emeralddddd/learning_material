{
  "nbformat": 4,
  "nbformat_minor": 0,
  "metadata": {
    "colab": {
      "name": "AI_Project2_AirQualityUCI.ipynb",
      "version": "0.3.2",
      "provenance": [],
      "collapsed_sections": []
    },
    "kernelspec": {
      "name": "python3",
      "display_name": "Python 3"
    }
  },
  "cells": [
    {
      "cell_type": "code",
      "metadata": {
        "id": "v2FlPaFAofzw",
        "colab_type": "code",
        "colab": {}
      },
      "source": [
        "import pandas as pd\n",
        "import numpy as np\n",
        "\n",
        "from sklearn.model_selection import train_test_split\n",
        "from sklearn.linear_model import LinearRegression\n",
        "from sklearn.preprocessing import StandardScaler\n",
        "from sklearn.metrics import mean_squared_error\n",
        "\n",
        "\n",
        "import matplotlib.pyplot as plt\n",
        "%matplotlib inline"
      ],
      "execution_count": 0,
      "outputs": []
    },
    {
      "cell_type": "markdown",
      "metadata": {
        "id": "KLIwbdfhB7qo",
        "colab_type": "text"
      },
      "source": [
        "##导入文件：\n",
        "因为colab上传的文件在每一次重新连接之后都会被情况，因此这里采用了从google drive 上导入文件的方法。使用了python的PyDrive包以及google对应的SDK 使得colab笔记本可以使用储存在google drive上的文件；第一次运行GoogleAuth的时候会鉴权"
      ]
    },
    {
      "cell_type": "code",
      "metadata": {
        "id": "6fFICqpOpGzj",
        "colab_type": "code",
        "colab": {}
      },
      "source": [
        "# 安装 PyDrive 操作库，该操作每个 notebook 只需要执行一次\n",
        "!pip install -U -q PyDrive\n",
        "from pydrive.auth import GoogleAuth\n",
        "from pydrive.drive import GoogleDrive\n",
        "from google.colab import auth\n",
        "from oauth2client.client import GoogleCredentials\n",
        "\n",
        "# 授权登录，仅第一次的时候会鉴权\n",
        "auth.authenticate_user()\n",
        "gauth = GoogleAuth()\n",
        "gauth.credentials = GoogleCredentials.get_application_default()\n",
        "drive = GoogleDrive(gauth)"
      ],
      "execution_count": 0,
      "outputs": []
    },
    {
      "cell_type": "markdown",
      "metadata": {
        "id": "InhvPllYkeAV",
        "colab_type": "text"
      },
      "source": [
        "##导入并处理数据\n",
        "使用google drive之后可以获取每个文件的id（此处略过），通过该id可以把对应文件缓存到笔记本的当前目录下进行使用。之后可以使用pandas库读取csv文件，保存成为dataframe的格式。\n",
        "##数据清洗\n",
        "对数据进行预览后可以发现，数据中存在许多缺失和异常值。这里以预测一氧化碳为例。首先去除掉值全为nan的行。之后经过观察，发现CO(GT)和T两列中存在着大量值为-200的项，显然是一场值，于是仅保留大于0的值\n"
      ]
    },
    {
      "cell_type": "code",
      "metadata": {
        "id": "jn0V0lNPbOI8",
        "colab_type": "code",
        "outputId": "e5e16c0a-d758-4184-e75d-02c56aebfe69",
        "colab": {
          "base_uri": "https://localhost:8080/",
          "height": 52
        }
      },
      "source": [
        "file = drive.CreateFile({'id': \"1oBAq3B6MM1yyM35qn-JypNZVXCnR5e7v\"}) \n",
        "file.GetContentFile('AirQualityUCI.csv', \"text/csv\") \n",
        "df=pd.read_csv('AirQualityUCI.csv',sep=';',skiprows=0)\n",
        "df=df.iloc[:,:15]\n",
        "df=df.dropna(axis=0,how='any')\n",
        "df = df.replace(',','.',regex=True)\n",
        "df.iloc[:,2:] = df.iloc[:,2:].astype('float64')\n",
        "df = df[(df['T']>0)][(df['CO(GT)']>0)]"
      ],
      "execution_count": 0,
      "outputs": [
        {
          "output_type": "stream",
          "text": [
            "/usr/local/lib/python3.6/dist-packages/ipykernel_launcher.py:8: UserWarning: Boolean Series key will be reindexed to match DataFrame index.\n",
            "  \n"
          ],
          "name": "stderr"
        }
      ]
    },
    {
      "cell_type": "markdown",
      "metadata": {
        "id": "4-Z2suEml9Lm",
        "colab_type": "text"
      },
      "source": [
        "##数据集划分\n",
        "首先选取了原dataframe中对应的列分别作为数据和标签；然后调用sklearn中的train_test_split函数划分测试集。这里采用了30%的数据作为测试集，同时，为了保证结果的可复现性，固定选取了0作为随机因子\n",
        "##标准化\n",
        "为了消除数据绝对值大小对结果带来的影响，对训练数据进行了标准化操作"
      ]
    },
    {
      "cell_type": "code",
      "metadata": {
        "id": "AvYJQmP3c_wC",
        "colab_type": "code",
        "colab": {}
      },
      "source": [
        "data = df.iloc[:,[3,12,13]]\n",
        "label = df['CO(GT)']\n",
        "x_train,x_test,y_train,y_test = train_test_split(data,label,test_size=0.3,random_state=0)\n",
        "sc = StandardScaler()\n",
        "sc.fit(x_train)\n",
        "x_train_std = sc.transform(x_train)\n",
        "x_test_std = sc.transform(x_test)"
      ],
      "execution_count": 0,
      "outputs": []
    },
    {
      "cell_type": "markdown",
      "metadata": {
        "id": "UzeOAjhOml_v",
        "colab_type": "text"
      },
      "source": [
        "##模型训练\n",
        "这里采用了sklearn中的线性回归模型，并选取了默认的L2范数作为度量标准\n",
        "##模型检验\n",
        "通过计算预测值和实际值的均方误差来检验模型的效果"
      ]
    },
    {
      "cell_type": "code",
      "metadata": {
        "id": "A6vGtVbe2_ju",
        "colab_type": "code",
        "outputId": "7467fb02-5db6-4cdb-d5df-3522d38fd559",
        "colab": {
          "base_uri": "https://localhost:8080/",
          "height": 52
        }
      },
      "source": [
        "log = LinearRegression()\n",
        "log.fit(x_train_std,y_train)"
      ],
      "execution_count": 0,
      "outputs": [
        {
          "output_type": "execute_result",
          "data": {
            "text/plain": [
              "LinearRegression(copy_X=True, fit_intercept=True, n_jobs=None,\n",
              "         normalize=False)"
            ]
          },
          "metadata": {
            "tags": []
          },
          "execution_count": 226
        }
      ]
    },
    {
      "cell_type": "code",
      "metadata": {
        "id": "POVF85YHYK-3",
        "colab_type": "code",
        "colab": {}
      },
      "source": [
        "y_pred=log.predict(x_test_std)\n",
        "mean_squared_error(y_test, y_pred)"
      ],
      "execution_count": 0,
      "outputs": []
    },
    {
      "cell_type": "code",
      "metadata": {
        "id": "29hKotSEYnbu",
        "colab_type": "code",
        "outputId": "e82d4dca-aebb-4eeb-9d69-5798cbd63a55",
        "colab": {
          "base_uri": "https://localhost:8080/",
          "height": 284
        }
      },
      "source": [
        "fig, ax = plt.subplots()\n",
        "ax.scatter(y_test, y_pred)\n",
        "ax.plot([y_test.min(), y_test.max()], [y_test.min(), y_test.max()], 'k--', lw=4)\n",
        "ax.set_xlabel('Measured')\n",
        "ax.set_ylabel('Predicted')\n",
        "plt.show()"
      ],
      "execution_count": 0,
      "outputs": [
        {
          "output_type": "display_data",
          "data": {
            "image/png": "[encoded data removed]",
            "text/plain": [
              "<Figure size 432x288 with 1 Axes>"
            ]
          },
          "metadata": {
            "tags": []
          }
        }
      ]
    }
  ]
}