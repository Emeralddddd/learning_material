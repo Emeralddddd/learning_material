{
  "nbformat": 4,
  "nbformat_minor": 0,
  "metadata": {
    "colab": {
      "name": "AI3.ipynb",
      "version": "0.3.2",
      "provenance": [],
      "collapsed_sections": [],
      "include_colab_link": true
    },
    "kernelspec": {
      "name": "python3",
      "display_name": "Python 3"
    },
    "accelerator": "GPU"
  },
  "cells": [
    {
      "cell_type": "markdown",
      "metadata": {
        "id": "view-in-github",
        "colab_type": "text"
      },
      "source": [
        "<a href=\"https://colab.research.google.com/github/Emeralddddd/learning_material/blob/master/AI3.ipynb\" target=\"_parent\"><img src=\"https://colab.research.google.com/assets/colab-badge.svg\" alt=\"Open In Colab\"/></a>"
      ]
    },
    {
      "cell_type": "markdown",
      "metadata": {
        "id": "-KJlYd0qrLZr",
        "colab_type": "text"
      },
      "source": [
        "#综述\n",
        "本实验目的是对cifar10的图片数据进行分类，基于tensorflow2.0alpha版本，构建了卷积神经网络以解决该问题"
      ]
    },
    {
      "cell_type": "code",
      "metadata": {
        "id": "5fx3MG2tVBPE",
        "colab_type": "code",
        "outputId": "a3ed37b9-8289-43c1-c604-edb014eb0bcd",
        "colab": {
          "base_uri": "https://localhost:8080/",
          "height": 383
        }
      },
      "source": [
        "!pip install tensorflow-gpu==2.0.0-alpha0 \n",
        "import tensorflow as tf\n",
        "from tensorflow.keras import datasets, layers, models\n",
        "from tensorflow.keras.layers import Dense, Dropout, Activation, Flatten,Conv2D, MaxPooling2D\n",
        "import numpy as np\n",
        "import pandas as pd\n",
        "from keras.datasets import cifar10\n",
        "print(tf.__version__)"
      ],
      "execution_count": 0,
      "outputs": [
        {
          "output_type": "stream",
          "text": [
            "Requirement already satisfied: tensorflow-gpu==2.0.0-alpha0 in /usr/local/lib/python3.6/dist-packages (2.0.0a0)\n",
            "Requirement already satisfied: tb-nightly<1.14.0a20190302,>=1.14.0a20190301 in /usr/local/lib/python3.6/dist-packages (from tensorflow-gpu==2.0.0-alpha0) (1.14.0a20190301)\n",
            "Requirement already satisfied: numpy<2.0,>=1.14.5 in /usr/local/lib/python3.6/dist-packages (from tensorflow-gpu==2.0.0-alpha0) (1.16.4)\n",
            "Requirement already satisfied: protobuf>=3.6.1 in /usr/local/lib/python3.6/dist-packages (from tensorflow-gpu==2.0.0-alpha0) (3.7.1)\n",
            "Requirement already satisfied: keras-applications>=1.0.6 in /usr/local/lib/python3.6/dist-packages (from tensorflow-gpu==2.0.0-alpha0) (1.0.7)\n",
            "Requirement already satisfied: tf-estimator-nightly<1.14.0.dev2019030116,>=1.14.0.dev2019030115 in /usr/local/lib/python3.6/dist-packages (from tensorflow-gpu==2.0.0-alpha0) (1.14.0.dev2019030115)\n",
            "Requirement already satisfied: absl-py>=0.7.0 in /usr/local/lib/python3.6/dist-packages (from tensorflow-gpu==2.0.0-alpha0) (0.7.1)\n",
            "Requirement already satisfied: termcolor>=1.1.0 in /usr/local/lib/python3.6/dist-packages (from tensorflow-gpu==2.0.0-alpha0) (1.1.0)\n",
            "Requirement already satisfied: grpcio>=1.8.6 in /usr/local/lib/python3.6/dist-packages (from tensorflow-gpu==2.0.0-alpha0) (1.15.0)\n",
            "Requirement already satisfied: wheel>=0.26 in /usr/local/lib/python3.6/dist-packages (from tensorflow-gpu==2.0.0-alpha0) (0.33.4)\n",
            "Requirement already satisfied: astor>=0.6.0 in /usr/local/lib/python3.6/dist-packages (from tensorflow-gpu==2.0.0-alpha0) (0.8.0)\n",
            "Requirement already satisfied: keras-preprocessing>=1.0.5 in /usr/local/lib/python3.6/dist-packages (from tensorflow-gpu==2.0.0-alpha0) (1.0.9)\n",
            "Requirement already satisfied: six>=1.10.0 in /usr/local/lib/python3.6/dist-packages (from tensorflow-gpu==2.0.0-alpha0) (1.12.0)\n",
            "Requirement already satisfied: google-pasta>=0.1.2 in /usr/local/lib/python3.6/dist-packages (from tensorflow-gpu==2.0.0-alpha0) (0.1.7)\n",
            "Requirement already satisfied: gast>=0.2.0 in /usr/local/lib/python3.6/dist-packages (from tensorflow-gpu==2.0.0-alpha0) (0.2.2)\n",
            "Requirement already satisfied: werkzeug>=0.11.15 in /usr/local/lib/python3.6/dist-packages (from tb-nightly<1.14.0a20190302,>=1.14.0a20190301->tensorflow-gpu==2.0.0-alpha0) (0.15.4)\n",
            "Requirement already satisfied: markdown>=2.6.8 in /usr/local/lib/python3.6/dist-packages (from tb-nightly<1.14.0a20190302,>=1.14.0a20190301->tensorflow-gpu==2.0.0-alpha0) (3.1.1)\n",
            "Requirement already satisfied: setuptools in /usr/local/lib/python3.6/dist-packages (from protobuf>=3.6.1->tensorflow-gpu==2.0.0-alpha0) (41.0.1)\n",
            "Requirement already satisfied: h5py in /usr/local/lib/python3.6/dist-packages (from keras-applications>=1.0.6->tensorflow-gpu==2.0.0-alpha0) (2.8.0)\n",
            "2.0.0-alpha0\n"
          ],
          "name": "stdout"
        }
      ]
    },
    {
      "cell_type": "markdown",
      "metadata": {
        "id": "S7Kc4t2qrdhP",
        "colab_type": "text"
      },
      "source": [
        "#数据预处理\n",
        "###数据载入\n",
        "这里直接采用了keras数据集中的cifar10数据"
      ]
    },
    {
      "cell_type": "code",
      "metadata": {
        "id": "VRk0w-ZjbIqs",
        "colab_type": "code",
        "outputId": "b4c9c2fb-f3b8-4bb8-befd-5d062724a6da",
        "colab": {
          "base_uri": "https://localhost:8080/",
          "height": 52
        }
      },
      "source": [
        "(x_train, y_train), (x_test, y_test) = cifar10.load_data()\n",
        "#y_train = keras.utils.to_categorical(y_train, num_classes)\n",
        "#y_test = keras.utils.to_categorical(y_test, num_classes)"
      ],
      "execution_count": 0,
      "outputs": [
        {
          "output_type": "stream",
          "text": [
            "Downloading data from https://www.cs.toronto.edu/~kriz/cifar-10-python.tar.gz\n",
            "170500096/170498071 [==============================] - 23s 0us/step\n"
          ],
          "name": "stdout"
        }
      ]
    },
    {
      "cell_type": "markdown",
      "metadata": {
        "id": "dv8zqKPkrq1A",
        "colab_type": "text"
      },
      "source": [
        "###标准化\n",
        "为了方便处理，这里对数据进行标准化，使得所有的数据都落在0-1之间"
      ]
    },
    {
      "cell_type": "code",
      "metadata": {
        "id": "1dwDrkxAA5ZZ",
        "colab_type": "code",
        "colab": {}
      },
      "source": [
        "x_train = x_train.astype('float32')\n",
        "x_test = x_test.astype('float32')\n",
        "x_train /= 255\n",
        "x_test /= 255"
      ],
      "execution_count": 0,
      "outputs": []
    },
    {
      "cell_type": "markdown",
      "metadata": {
        "id": "Qc8YNBRtr6mn",
        "colab_type": "text"
      },
      "source": [
        "###构建模型\n",
        "基于keras的顺序模型构建了神经网络，其中包含4个卷积层和2个池化层。卷积核大小选为（3，3）以便卷积到三个通道上的数据。经过两次（卷积——卷积——池化）的处理后，通过全连接层后以softmax输出"
      ]
    },
    {
      "cell_type": "code",
      "metadata": {
        "id": "bgPQv65ZbJfM",
        "colab_type": "code",
        "colab": {}
      },
      "source": [
        "model = tf.keras.Sequential() \n",
        "model.add(Conv2D(32, (3, 3), padding='same',\n",
        "                 input_shape=x_train.shape[1:]))\n",
        "model.add(Activation('relu'))\n",
        "model.add(Conv2D(32, (3, 3)))\n",
        "model.add(Activation('relu'))\n",
        "model.add(MaxPooling2D(pool_size=(2, 2)))\n",
        "model.add(Dropout(0.25))\n",
        "\n",
        "model.add(Conv2D(64, (3, 3), padding='same'))\n",
        "model.add(Activation('relu'))\n",
        "model.add(Conv2D(64, (3, 3)))\n",
        "model.add(Activation('relu'))\n",
        "model.add(MaxPooling2D(pool_size=(2, 2)))\n",
        "model.add(Dropout(0.25))\n",
        "\n",
        "model.add(Flatten())\n",
        "model.add(Dense(512))\n",
        "model.add(Activation('relu'))\n",
        "model.add(Dropout(0.5))\n",
        "model.add(Dense(10))\n",
        "model.add(Activation('softmax'))\n",
        "\n",
        "# initiate RMSprop optimizer\n",
        "opt = tf.keras.optimizers.RMSprop(lr=0.0001, decay=1e-6)"
      ],
      "execution_count": 0,
      "outputs": []
    },
    {
      "cell_type": "code",
      "metadata": {
        "id": "wCkFk53lguJM",
        "colab_type": "code",
        "outputId": "a6919ece-9e72-49bc-cbc3-463c3020436e",
        "colab": {
          "base_uri": "https://localhost:8080/",
          "height": 777
        }
      },
      "source": [
        "tb = tf.keras.callbacks.TensorBoard()\n",
        "model.summary()"
      ],
      "execution_count": 0,
      "outputs": [
        {
          "output_type": "stream",
          "text": [
            "Model: \"sequential\"\n",
            "_________________________________________________________________\n",
            "Layer (type)                 Output Shape              Param #   \n",
            "=================================================================\n",
            "conv2d (Conv2D)              (None, 32, 32, 32)        896       \n",
            "_________________________________________________________________\n",
            "activation (Activation)      (None, 32, 32, 32)        0         \n",
            "_________________________________________________________________\n",
            "conv2d_1 (Conv2D)            (None, 30, 30, 32)        9248      \n",
            "_________________________________________________________________\n",
            "activation_1 (Activation)    (None, 30, 30, 32)        0         \n",
            "_________________________________________________________________\n",
            "max_pooling2d (MaxPooling2D) (None, 15, 15, 32)        0         \n",
            "_________________________________________________________________\n",
            "dropout (Dropout)            (None, 15, 15, 32)        0         \n",
            "_________________________________________________________________\n",
            "conv2d_2 (Conv2D)            (None, 15, 15, 64)        18496     \n",
            "_________________________________________________________________\n",
            "activation_2 (Activation)    (None, 15, 15, 64)        0         \n",
            "_________________________________________________________________\n",
            "conv2d_3 (Conv2D)            (None, 13, 13, 64)        36928     \n",
            "_________________________________________________________________\n",
            "activation_3 (Activation)    (None, 13, 13, 64)        0         \n",
            "_________________________________________________________________\n",
            "max_pooling2d_1 (MaxPooling2 (None, 6, 6, 64)          0         \n",
            "_________________________________________________________________\n",
            "dropout_1 (Dropout)          (None, 6, 6, 64)          0         \n",
            "_________________________________________________________________\n",
            "flatten (Flatten)            (None, 2304)              0         \n",
            "_________________________________________________________________\n",
            "dense (Dense)                (None, 512)               1180160   \n",
            "_________________________________________________________________\n",
            "activation_4 (Activation)    (None, 512)               0         \n",
            "_________________________________________________________________\n",
            "dropout_2 (Dropout)          (None, 512)               0         \n",
            "_________________________________________________________________\n",
            "dense_1 (Dense)              (None, 10)                5130      \n",
            "_________________________________________________________________\n",
            "activation_5 (Activation)    (None, 10)                0         \n",
            "=================================================================\n",
            "Total params: 1,250,858\n",
            "Trainable params: 1,250,858\n",
            "Non-trainable params: 0\n",
            "_________________________________________________________________\n"
          ],
          "name": "stdout"
        }
      ]
    },
    {
      "cell_type": "code",
      "metadata": {
        "id": "OBUMysRJhZvC",
        "colab_type": "code",
        "colab": {}
      },
      "source": [
        "model.compile(optimizer=opt,\n",
        "              loss='sparse_categorical_crossentropy',\n",
        "              metrics=['accuracy'])"
      ],
      "execution_count": 0,
      "outputs": []
    },
    {
      "cell_type": "code",
      "metadata": {
        "id": "YKxdxaxGjGeo",
        "colab_type": "code",
        "outputId": "d39fac44-f162-48fe-b243-6c449b5a6413",
        "colab": {
          "base_uri": "https://localhost:8080/",
          "height": 1779
        }
      },
      "source": [
        "model.fit(x_train, y_train,\n",
        "              batch_size=32,\n",
        "              epochs=50,\n",
        "              validation_data=(x_test, y_test),\n",
        "              shuffle=True)"
      ],
      "execution_count": 0,
      "outputs": [
        {
          "output_type": "stream",
          "text": [
            "Train on 50000 samples, validate on 10000 samples\n",
            "Epoch 1/50\n",
            "50000/50000 [==============================] - 15s 309us/sample - loss: 1.8144 - accuracy: 0.3347 - val_loss: 1.5296 - val_accuracy: 0.4474\n",
            "Epoch 2/50\n",
            "50000/50000 [==============================] - 11s 230us/sample - loss: 1.5083 - accuracy: 0.4535 - val_loss: 1.3480 - val_accuracy: 0.5104\n",
            "Epoch 3/50\n",
            "50000/50000 [==============================] - 11s 228us/sample - loss: 1.3687 - accuracy: 0.5087 - val_loss: 1.3106 - val_accuracy: 0.5334\n",
            "Epoch 4/50\n",
            "50000/50000 [==============================] - 11s 228us/sample - loss: 1.2752 - accuracy: 0.5442 - val_loss: 1.2106 - val_accuracy: 0.5771\n",
            "Epoch 5/50\n",
            "50000/50000 [==============================] - 11s 229us/sample - loss: 1.2007 - accuracy: 0.5743 - val_loss: 1.1314 - val_accuracy: 0.6047\n",
            "Epoch 6/50\n",
            "50000/50000 [==============================] - 11s 229us/sample - loss: 1.1357 - accuracy: 0.5990 - val_loss: 1.0339 - val_accuracy: 0.6365\n",
            "Epoch 7/50\n",
            "50000/50000 [==============================] - 11s 228us/sample - loss: 1.0798 - accuracy: 0.6206 - val_loss: 0.9980 - val_accuracy: 0.6497\n",
            "Epoch 8/50\n",
            "50000/50000 [==============================] - 11s 229us/sample - loss: 1.0320 - accuracy: 0.6381 - val_loss: 0.9585 - val_accuracy: 0.6666\n",
            "Epoch 9/50\n",
            "50000/50000 [==============================] - 11s 229us/sample - loss: 0.9887 - accuracy: 0.6526 - val_loss: 0.9189 - val_accuracy: 0.6828\n",
            "Epoch 10/50\n",
            "50000/50000 [==============================] - 12s 231us/sample - loss: 0.9547 - accuracy: 0.6673 - val_loss: 0.8979 - val_accuracy: 0.6910\n",
            "Epoch 11/50\n",
            "50000/50000 [==============================] - 11s 227us/sample - loss: 0.9222 - accuracy: 0.6793 - val_loss: 0.8667 - val_accuracy: 0.7071\n",
            "Epoch 12/50\n",
            "50000/50000 [==============================] - 11s 226us/sample - loss: 0.8942 - accuracy: 0.6872 - val_loss: 0.8790 - val_accuracy: 0.6946\n",
            "Epoch 13/50\n",
            "50000/50000 [==============================] - 11s 226us/sample - loss: 0.8688 - accuracy: 0.6972 - val_loss: 0.8445 - val_accuracy: 0.7065\n",
            "Epoch 14/50\n",
            "50000/50000 [==============================] - 11s 225us/sample - loss: 0.8468 - accuracy: 0.7066 - val_loss: 0.8488 - val_accuracy: 0.7081\n",
            "Epoch 15/50\n",
            "50000/50000 [==============================] - 11s 225us/sample - loss: 0.8258 - accuracy: 0.7128 - val_loss: 0.8126 - val_accuracy: 0.7211\n",
            "Epoch 16/50\n",
            "50000/50000 [==============================] - 12s 230us/sample - loss: 0.8078 - accuracy: 0.7196 - val_loss: 0.8026 - val_accuracy: 0.7255\n",
            "Epoch 17/50\n",
            "50000/50000 [==============================] - 12s 233us/sample - loss: 0.7952 - accuracy: 0.7246 - val_loss: 0.7671 - val_accuracy: 0.7379\n",
            "Epoch 18/50\n",
            "50000/50000 [==============================] - 11s 224us/sample - loss: 0.7804 - accuracy: 0.7337 - val_loss: 0.7651 - val_accuracy: 0.7434\n",
            "Epoch 19/50\n",
            "50000/50000 [==============================] - 11s 224us/sample - loss: 0.7702 - accuracy: 0.7357 - val_loss: 0.7391 - val_accuracy: 0.7473\n",
            "Epoch 20/50\n",
            "50000/50000 [==============================] - 11s 224us/sample - loss: 0.7617 - accuracy: 0.7386 - val_loss: 0.7448 - val_accuracy: 0.7488\n",
            "Epoch 21/50\n",
            "50000/50000 [==============================] - 11s 224us/sample - loss: 0.7504 - accuracy: 0.7429 - val_loss: 0.7367 - val_accuracy: 0.7502\n",
            "Epoch 22/50\n",
            "50000/50000 [==============================] - 11s 224us/sample - loss: 0.7443 - accuracy: 0.7437 - val_loss: 0.7447 - val_accuracy: 0.7479\n",
            "Epoch 23/50\n",
            "50000/50000 [==============================] - 11s 228us/sample - loss: 0.7345 - accuracy: 0.7493 - val_loss: 0.8035 - val_accuracy: 0.7306\n",
            "Epoch 24/50\n",
            "50000/50000 [==============================] - 11s 225us/sample - loss: 0.7308 - accuracy: 0.7511 - val_loss: 0.7009 - val_accuracy: 0.7641\n",
            "Epoch 25/50\n",
            "50000/50000 [==============================] - 11s 224us/sample - loss: 0.7218 - accuracy: 0.7526 - val_loss: 0.7139 - val_accuracy: 0.7536\n",
            "Epoch 26/50\n",
            "50000/50000 [==============================] - 11s 223us/sample - loss: 0.7161 - accuracy: 0.7565 - val_loss: 0.7097 - val_accuracy: 0.7592\n",
            "Epoch 27/50\n",
            "50000/50000 [==============================] - 11s 223us/sample - loss: 0.7081 - accuracy: 0.7606 - val_loss: 0.7011 - val_accuracy: 0.7677\n",
            "Epoch 28/50\n",
            "50000/50000 [==============================] - 11s 223us/sample - loss: 0.7068 - accuracy: 0.7578 - val_loss: 0.7522 - val_accuracy: 0.7516\n",
            "Epoch 29/50\n",
            "50000/50000 [==============================] - 11s 223us/sample - loss: 0.6997 - accuracy: 0.7612 - val_loss: 0.7301 - val_accuracy: 0.7558\n",
            "Epoch 30/50\n",
            "50000/50000 [==============================] - 11s 226us/sample - loss: 0.6927 - accuracy: 0.7637 - val_loss: 0.6850 - val_accuracy: 0.7712\n",
            "Epoch 31/50\n",
            "50000/50000 [==============================] - 11s 224us/sample - loss: 0.6919 - accuracy: 0.7658 - val_loss: 0.6677 - val_accuracy: 0.7726\n",
            "Epoch 32/50\n",
            "50000/50000 [==============================] - 11s 223us/sample - loss: 0.6845 - accuracy: 0.7679 - val_loss: 0.6788 - val_accuracy: 0.7724\n",
            "Epoch 33/50\n",
            "50000/50000 [==============================] - 11s 222us/sample - loss: 0.6809 - accuracy: 0.7708 - val_loss: 0.6956 - val_accuracy: 0.7660\n",
            "Epoch 34/50\n",
            "50000/50000 [==============================] - 11s 223us/sample - loss: 0.6812 - accuracy: 0.7700 - val_loss: 0.6677 - val_accuracy: 0.7777\n",
            "Epoch 35/50\n",
            "50000/50000 [==============================] - 11s 222us/sample - loss: 0.6752 - accuracy: 0.7717 - val_loss: 0.6726 - val_accuracy: 0.7760\n",
            "Epoch 36/50\n",
            "50000/50000 [==============================] - 11s 223us/sample - loss: 0.6729 - accuracy: 0.7728 - val_loss: 0.6718 - val_accuracy: 0.7770\n",
            "Epoch 37/50\n",
            "50000/50000 [==============================] - 11s 227us/sample - loss: 0.6639 - accuracy: 0.7764 - val_loss: 0.6508 - val_accuracy: 0.7840\n",
            "Epoch 38/50\n",
            "50000/50000 [==============================] - 11s 225us/sample - loss: 0.6677 - accuracy: 0.7750 - val_loss: 0.6880 - val_accuracy: 0.7781\n",
            "Epoch 39/50\n",
            "50000/50000 [==============================] - 11s 223us/sample - loss: 0.6597 - accuracy: 0.7782 - val_loss: 0.6493 - val_accuracy: 0.7836\n",
            "Epoch 40/50\n",
            "50000/50000 [==============================] - 11s 223us/sample - loss: 0.6622 - accuracy: 0.7755 - val_loss: 0.6743 - val_accuracy: 0.7781\n",
            "Epoch 41/50\n",
            "50000/50000 [==============================] - 11s 223us/sample - loss: 0.6594 - accuracy: 0.7775 - val_loss: 0.6554 - val_accuracy: 0.7820\n",
            "Epoch 42/50\n",
            "50000/50000 [==============================] - 11s 223us/sample - loss: 0.6607 - accuracy: 0.7774 - val_loss: 0.6462 - val_accuracy: 0.7850\n",
            "Epoch 43/50\n",
            "50000/50000 [==============================] - 11s 223us/sample - loss: 0.6509 - accuracy: 0.7806 - val_loss: 0.6709 - val_accuracy: 0.7832\n",
            "Epoch 44/50\n",
            "50000/50000 [==============================] - 11s 226us/sample - loss: 0.6534 - accuracy: 0.7788 - val_loss: 0.6476 - val_accuracy: 0.7891\n",
            "Epoch 45/50\n",
            "50000/50000 [==============================] - 11s 229us/sample - loss: 0.6504 - accuracy: 0.7828 - val_loss: 0.6746 - val_accuracy: 0.7815\n",
            "Epoch 46/50\n",
            "50000/50000 [==============================] - 11s 223us/sample - loss: 0.6447 - accuracy: 0.7845 - val_loss: 0.6644 - val_accuracy: 0.7827\n",
            "Epoch 47/50\n",
            "50000/50000 [==============================] - 11s 224us/sample - loss: 0.6439 - accuracy: 0.7833 - val_loss: 0.6534 - val_accuracy: 0.7840\n",
            "Epoch 48/50\n",
            "50000/50000 [==============================] - 11s 223us/sample - loss: 0.6415 - accuracy: 0.7851 - val_loss: 0.6910 - val_accuracy: 0.7786\n",
            "Epoch 49/50\n",
            "50000/50000 [==============================] - 11s 223us/sample - loss: 0.6416 - accuracy: 0.7846 - val_loss: 0.6750 - val_accuracy: 0.7845\n",
            "Epoch 50/50\n",
            "50000/50000 [==============================] - 11s 224us/sample - loss: 0.6407 - accuracy: 0.7864 - val_loss: 0.6794 - val_accuracy: 0.7740\n"
          ],
          "name": "stdout"
        },
        {
          "output_type": "execute_result",
          "data": {
            "text/plain": [
              "<tensorflow.python.keras.callbacks.History at 0x7f878031eef0>"
            ]
          },
          "metadata": {
            "tags": []
          },
          "execution_count": 8
        }
      ]
    }
  ]
}